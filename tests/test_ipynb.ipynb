{
 "cells": [
  {
   "cell_type": "markdown",
   "id": "54e1801a",
   "metadata": {},
   "source": [
    "### Here is a markdown ! trying to read that"
   ]
  },
  {
   "cell_type": "code",
   "execution_count": null,
   "id": "88901f78",
   "metadata": {},
   "outputs": [],
   "source": [
    "import xdxd\n",
    "try:\n",
    "    print(\"xd\")\n",
    "except Exception as z:\n",
    "    print(z)"
   ]
  },
  {
   "cell_type": "markdown",
   "id": "c0d9cbf5",
   "metadata": {},
   "source": [
    "markdown 2, èè, trying to render any utf?"
   ]
  }
 ],
 "metadata": {
  "kernelspec": {
   "display_name": "venv",
   "language": "python",
   "name": "python3"
  },
  "language_info": {
   "name": "python",
   "version": "3.13.3"
  }
 },
 "nbformat": 4,
 "nbformat_minor": 5
}
